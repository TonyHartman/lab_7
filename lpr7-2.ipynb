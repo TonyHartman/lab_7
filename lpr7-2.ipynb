{
 "cells": [
  {
   "cell_type": "markdown",
   "id": "d52f429d",
   "metadata": {},
   "source": [
    "# Pandas (продолжение)"
   ]
  },
  {
   "cell_type": "code",
   "execution_count": 1,
   "id": "e356d834",
   "metadata": {},
   "outputs": [],
   "source": [
    "import pandas as pd\n",
    "import numpy as np"
   ]
  },
  {
   "cell_type": "markdown",
   "id": "218b2ba7",
   "metadata": {},
   "source": [
    "## Упражнение 1\n",
    "\n",
    "Найдите и выведи индексы пропущенных значений.\n",
    "Заполните пропущеные значения следующими способами: \n",
    "\n",
    "1) Среднимим значения \n",
    "2) Медианными значениями \n",
    "3) Наиболее часто встечающимися \n",
    "4) Линейной интерполяцией "
   ]
  },
  {
   "cell_type": "code",
   "execution_count": 2,
   "id": "ecffbd6f",
   "metadata": {},
   "outputs": [],
   "source": [
    "df = pd.DataFrame({\n",
    "'ord_no':[70001,np.nan,70002,70004,np.nan,70005,np.nan,70010,70003,70012,np.nan,70013],\n",
    "'purch_amt':[150.5,np.nan,65.26,110.5,948.5,np.nan,5760,1983.43,np.nan,250.45, 75.29,3045.6],\n",
    "'sale_amt':[10.5,20.65,np.nan,11.5,98.5,np.nan,57,19.43,np.nan,25.45, 75.29,35.6],\n",
    "'ord_date': ['2012-10-05','2012-09-10',np.nan,'2012-08-17','2012-09-10','2012-07-27','2012-09-10','2012-10-10','2012-10-10','2012-06-27','2012-08-17','2012-04-25'],\n",
    "'customer_id':[3002,3001,3001,3003,3002,3001,3001,3004,3003,3002,3001,3001],\n",
    "'salesman_id':[5002,5003,5001,np.nan,5002,5001,5001,np.nan,5003,5002,5003,np.nan]})"
   ]
  },
  {
   "cell_type": "markdown",
   "id": "ae8f5b22",
   "metadata": {},
   "source": [
    "## Упражнение 2\n",
    "\n",
    "\n",
    "DataFrame дан ниже\n",
    "\n",
    "\n",
    "1. Найдите все алмазы которые по любому линейному размеру больше 5.\n",
    "\n",
    "2. Создайте новый DataFrame в которому исключены все не чсиловые столбы исходного DataFrame. \n",
    "\n",
    "3. Расчитатйте средние значения для каждого столбца\n",
    "\n",
    "4. Пострйоет график средних цен для каждой категории (cut) алмазов.\n",
    "\n",
    "5. Постройте гистрограмму  веса ('carat') алмазов.\n",
    "\n",
    "6. Посчитаете все пропущенные занчения в Dataframe\n",
    "\n",
    "7. Создайте новый DataFrame в которому исключены все строки с пропущенными занчениями\n",
    "\n",
    "8. Узнайте реальное использование оперативной памяти вашим DataFrame\n",
    "\n",
    "9. Напишите функцию возращающую 20 случайныз строчек из DataFrame (без повторений)"
   ]
  },
  {
   "cell_type": "code",
   "execution_count": 1,
   "id": "8e7be875",
   "metadata": {},
   "outputs": [
    {
     "name": "stdout",
     "output_type": "stream",
     "text": [
      "       carat        cut color clarity  depth  table  price     x     y     z\n",
      "0       0.23      Ideal     E     SI2   61.5   55.0    326  3.95  3.98  2.43\n",
      "1       0.21    Premium     E     SI1   59.8   61.0    326  3.89  3.84  2.31\n",
      "2       0.23       Good     E     VS1   56.9   65.0    327  4.05  4.07  2.31\n",
      "3       0.29    Premium     I     VS2   62.4   58.0    334  4.20  4.23  2.63\n",
      "4       0.31       Good     J     SI2   63.3   58.0    335  4.34  4.35  2.75\n",
      "...      ...        ...   ...     ...    ...    ...    ...   ...   ...   ...\n",
      "53935   0.72      Ideal     D     SI1   60.8   57.0   2757  5.75  5.76  3.50\n",
      "53936   0.72       Good     D     SI1   63.1   55.0   2757  5.69  5.75  3.61\n",
      "53937   0.70  Very Good     D     SI1   62.8   60.0   2757  5.66  5.68  3.56\n",
      "53938   0.86    Premium     H     SI2   61.0   58.0   2757  6.15  6.12  3.74\n",
      "53939   0.75      Ideal     D     SI2   62.2   55.0   2757  5.83  5.87  3.64\n",
      "\n",
      "[53940 rows x 10 columns]\n"
     ]
    }
   ],
   "source": [
    "import pandas as pd\n",
    "diamonds = pd.read_csv('https://raw.githubusercontent.com/mwaskom/seaborn-data/master/diamonds.csv')\n",
    "print(diamonds)\n"
   ]
  },
  {
   "cell_type": "code",
   "execution_count": null,
   "id": "74914358",
   "metadata": {},
   "outputs": [],
   "source": []
  }
 ],
 "metadata": {
  "kernelspec": {
   "display_name": "Python 3 (ipykernel)",
   "language": "python",
   "name": "python3"
  },
  "language_info": {
   "codemirror_mode": {
    "name": "ipython",
    "version": 3
   },
   "file_extension": ".py",
   "mimetype": "text/x-python",
   "name": "python",
   "nbconvert_exporter": "python",
   "pygments_lexer": "ipython3",
   "version": "3.10.4"
  }
 },
 "nbformat": 4,
 "nbformat_minor": 5
}
